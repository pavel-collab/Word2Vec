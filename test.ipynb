{
 "cells": [
  {
   "cell_type": "code",
   "execution_count": null,
   "id": "d5ad7c40",
   "metadata": {},
   "outputs": [],
   "source": [
    "import numpy as np\n",
    "import matplotlib.pyplot as plt\n",
    "from utils import preprocess_text, build_vocabulary, generate_skip_grams, generate_cbow_pairs, data_import\n",
    "from models.skip_gram import SkipGram\n",
    "from models.cbow import CBOW\n",
    "import random\n",
    "from pathlib import Path\n",
    "from db import load_data_to_db, import_texts"
   ]
  },
  {
   "cell_type": "code",
   "execution_count": null,
   "id": "97eff075",
   "metadata": {},
   "outputs": [],
   "source": [
    "DB_NAME = 'db.sqlite3'"
   ]
  },
  {
   "cell_type": "code",
   "execution_count": null,
   "id": "de959276",
   "metadata": {},
   "outputs": [],
   "source": [
    "if Path(DB_NAME).exists():\n",
    "    text_corpus = import_texts(DB_NAME, limit=5000)\n",
    "else:\n",
    "    text_corpus = data_import(page_limit=5000)\n",
    "    load_data_to_db(text_corpus, DB_NAME)"
   ]
  },
  {
   "cell_type": "code",
   "execution_count": null,
   "id": "f05a9856",
   "metadata": {},
   "outputs": [],
   "source": [
    "processed_corpus = preprocess_text(text_corpus)\n",
    "vocab, index_to_word = build_vocabulary(processed_corpus)\n",
    "skip_grams = generate_skip_grams(processed_corpus)\n",
    "cbow_pairs = generate_cbow_pairs(processed_corpus)"
   ]
  },
  {
   "cell_type": "code",
   "execution_count": null,
   "id": "7828ec22",
   "metadata": {},
   "outputs": [],
   "source": [
    "# возьмем несколько текстов, чтобы проверить логическую связь слов после обучения\n",
    "random_text_subset = random.sample(text_corpus, 3)"
   ]
  },
  {
   "cell_type": "code",
   "execution_count": null,
   "id": "6f59be5b",
   "metadata": {},
   "outputs": [],
   "source": [
    "processed_test_texts = preprocess_text(random_text_subset)\n",
    "test_vocab, _ = build_vocabulary(processed_test_texts)"
   ]
  },
  {
   "cell_type": "code",
   "execution_count": null,
   "id": "db20fc2e",
   "metadata": {},
   "outputs": [],
   "source": [
    "EMBEDDING_DIM = 100"
   ]
  },
  {
   "cell_type": "code",
   "execution_count": null,
   "id": "7c2d9792",
   "metadata": {},
   "outputs": [],
   "source": [
    "skip_gram_model = SkipGram(len(vocab), EMBEDDING_DIM, vocab)    \n",
    "skip_gram_losses = skip_gram_model.train(skip_grams, epochs=100)"
   ]
  },
  {
   "cell_type": "code",
   "execution_count": null,
   "id": "540fe83c",
   "metadata": {},
   "outputs": [],
   "source": [
    "plt.plot(np.arange(len(skip_gram_losses)), skip_gram_losses)\n",
    "plt.xlabel('Training step')\n",
    "plt.ylabel('Loss')\n",
    "plt.title('Loss for skip-gram')\n",
    "plt.show()"
   ]
  },
  {
   "cell_type": "code",
   "execution_count": null,
   "id": "638f1a85",
   "metadata": {},
   "outputs": [],
   "source": [
    "cbow_models = CBOW(len(vocab), EMBEDDING_DIM, vocab)\n",
    "cbow_losses = cbow_models.train(cbow_pairs, epochs=100)"
   ]
  },
  {
   "cell_type": "code",
   "execution_count": null,
   "id": "abe57961",
   "metadata": {},
   "outputs": [],
   "source": [
    "plt.plot(np.arange(len(cbow_losses)), cbow_losses)\n",
    "plt.xlabel('Training step')\n",
    "plt.ylabel('Loss')\n",
    "plt.title('Loss for cbow')\n",
    "plt.show()"
   ]
  },
  {
   "cell_type": "code",
   "execution_count": null,
   "id": "322f043f",
   "metadata": {},
   "outputs": [],
   "source": [
    "# получаем список индексов\n",
    "word_idxs = []\n",
    "for word in test_vocab:\n",
    "    word_idxs.append(vocab[word])\n",
    "\n",
    "# получаем эмбеддинги для skip-gram и cbow\n",
    "skip_gram_embeddings = []\n",
    "for word in test_vocab:\n",
    "    skip_gram_embeddings.append(skip_gram_model.embed(word))\n",
    "\n",
    "cbow_embeddings = []\n",
    "for word in test_vocab:\n",
    "    cbow_embeddings.append(cbow_models.embed(word))"
   ]
  },
  {
   "cell_type": "code",
   "execution_count": null,
   "id": "45ade1e6",
   "metadata": {},
   "outputs": [],
   "source": [
    "skip_gram_embeddings = np.array(skip_gram_embeddings)\n",
    "cbow_embeddings = np.array(cbow_embeddings)"
   ]
  },
  {
   "cell_type": "code",
   "execution_count": null,
   "id": "303623be",
   "metadata": {},
   "outputs": [],
   "source": [
    "from utils import reduce_to_k_dim, plot_embeddings"
   ]
  },
  {
   "cell_type": "code",
   "execution_count": null,
   "id": "32a55449",
   "metadata": {},
   "outputs": [],
   "source": [
    "reduced_skip_gram_embeddings = reduce_to_k_dim(skip_gram_embeddings)\n",
    "reduced_cbow_embeddings = reduce_to_k_dim(cbow_embeddings)"
   ]
  },
  {
   "cell_type": "code",
   "execution_count": null,
   "id": "2a82f791",
   "metadata": {},
   "outputs": [],
   "source": [
    "plot_embeddings(reduced_skip_gram_embeddings, test_vocab)"
   ]
  },
  {
   "cell_type": "code",
   "execution_count": null,
   "id": "71313e05",
   "metadata": {},
   "outputs": [],
   "source": [
    "plot_embeddings(reduced_cbow_embeddings, test_vocab)"
   ]
  }
 ],
 "metadata": {
  "kernelspec": {
   "display_name": ".venv",
   "language": "python",
   "name": "python3"
  },
  "language_info": {
   "codemirror_mode": {
    "name": "ipython",
    "version": 3
   },
   "file_extension": ".py",
   "mimetype": "text/x-python",
   "name": "python",
   "nbconvert_exporter": "python",
   "pygments_lexer": "ipython3",
   "version": "3.12.3"
  }
 },
 "nbformat": 4,
 "nbformat_minor": 5
}
